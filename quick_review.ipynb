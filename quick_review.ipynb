{
 "cells": [
  {
   "cell_type": "code",
   "execution_count": 1,
   "id": "941caf60-68f7-48ae-a017-77885d380588",
   "metadata": {},
   "outputs": [
    {
     "name": "stderr",
     "output_type": "stream",
     "text": [
      "Warning message:\n",
      "“package ‘lubridate’ was built under R version 4.4.2”\n",
      "── \u001b[1mAttaching core tidyverse packages\u001b[22m ──────────────────────── tidyverse 2.0.0 ──\n",
      "\u001b[32m✔\u001b[39m \u001b[34mdplyr    \u001b[39m 1.1.4     \u001b[32m✔\u001b[39m \u001b[34mreadr    \u001b[39m 2.1.5\n",
      "\u001b[32m✔\u001b[39m \u001b[34mforcats  \u001b[39m 1.0.0     \u001b[32m✔\u001b[39m \u001b[34mstringr  \u001b[39m 1.5.1\n",
      "\u001b[32m✔\u001b[39m \u001b[34mggplot2  \u001b[39m 3.5.1     \u001b[32m✔\u001b[39m \u001b[34mtibble   \u001b[39m 3.2.1\n",
      "\u001b[32m✔\u001b[39m \u001b[34mlubridate\u001b[39m 1.9.4     \u001b[32m✔\u001b[39m \u001b[34mtidyr    \u001b[39m 1.3.1\n",
      "\u001b[32m✔\u001b[39m \u001b[34mpurrr    \u001b[39m 1.0.2     \n",
      "── \u001b[1mConflicts\u001b[22m ────────────────────────────────────────── tidyverse_conflicts() ──\n",
      "\u001b[31m✖\u001b[39m \u001b[34mdplyr\u001b[39m::\u001b[32mfilter()\u001b[39m masks \u001b[34mstats\u001b[39m::filter()\n",
      "\u001b[31m✖\u001b[39m \u001b[34mdplyr\u001b[39m::\u001b[32mlag()\u001b[39m    masks \u001b[34mstats\u001b[39m::lag()\n",
      "\u001b[36mℹ\u001b[39m Use the conflicted package (\u001b[3m\u001b[34m<http://conflicted.r-lib.org/>\u001b[39m\u001b[23m) to force all conflicts to become errors\n"
     ]
    }
   ],
   "source": [
    "library(\"tidyverse\")"
   ]
  },
  {
   "cell_type": "markdown",
   "id": "0ca4f09b-e131-4644-81bd-96e3f2f6d88c",
   "metadata": {},
   "source": [
    "<h1>Quick R Review for 482</h1>\n",
    "<h3>Alan Lee</h3>\n",
    "This contains a list of basic R data analysis skills i put together to help give my POLI 482 peers get a crash course in using R w/ Dplyr. The is based on my notes from DSCI 100, POLI 381, and Stat 301.<br>\n",
    "The images are generated from ChatGPT"
   ]
  },
  {
   "cell_type": "markdown",
   "id": "18760145-da16-4131-ab75-cfc58a10013f",
   "metadata": {},
   "source": [
    "<h2>Table of Contents</h2>\n",
    "\n",
    "1. Reading Data\n",
    "\n",
    "2. Basic Cleaning (Select/Filter/Mutate/Group by/Summarize)\n",
    "\n",
    "3. Merging Data\n",
    "\n",
    "4. Pivoting Long/Wide"
   ]
  },
  {
   "cell_type": "markdown",
   "id": "b4d4c310-ad9d-4b82-8970-447950f3b90b",
   "metadata": {},
   "source": [
    "<img src=\"img/wizard_cartoon.png\" alt=\"Drawing\" style=\"width: 350px;\"/>\n",
    "<h4>\"Hi Everyone! I need your help doing some basic data analysis. I can show you some R code but I will need you in the real world to run it.\"</h4>"
   ]
  },
  {
   "cell_type": "markdown",
   "id": "926d24eb-846b-46e4-a949-bf81074057ca",
   "metadata": {},
   "source": [
    "<h2>Reading Data</h2>\n",
    "\n",
    "<h3>Locally:</h3> \n",
    "\n",
    "* Relative Path\n",
    "    * Start from current working folder\n",
    "    * Eg. `read_csv(\"downloads/folder_with_example_data/example.csv\")`\n",
    "\n",
    "* Absolute Path\n",
    "    * Start with / and give exactly where the file location is\n",
    "    * Eg. `read_csv(\"C:Users/username/downloads/folder_with_example_data/example.csv\")`\n",
    "    * read_csv also works direct from url\n",
    "\n",
    "Use `getwd()` to find what your current working directory is\n",
    "\n",
    "Use `setwd()` to set your current working directory\n"
   ]
  },
  {
   "cell_type": "code",
   "execution_count": null,
   "id": "423fee36-bff2-4942-a4fb-8e7fc8ef591d",
   "metadata": {},
   "outputs": [],
   "source": []
  },
  {
   "cell_type": "markdown",
   "id": "4cb68737-7047-426d-b961-b615bea985fb",
   "metadata": {},
   "source": [
    "<h3>Load the Dataset</h3>\n",
    "\n",
    "* `read_csv(\"...\")`\n",
    "\n",
    "  \n",
    "(Note: read_csv is a dplyr version of base read.csv. It is faster and doesn't convert character variables to factors like base read.csv)\n",
    "\n",
    "* `read_excel(\"...\")`\n",
    "  \n",
    "* `read_delim(file = \"...\", delim = \"...\", skip = ..., col_names = TRUE)`\n",
    "\n",
    "\n"
   ]
  },
  {
   "cell_type": "markdown",
   "id": "31be5f80-e25a-4ee3-8601-76a2258eb3e9",
   "metadata": {},
   "source": [
    "<h3>Example:</h3>\n",
    "\n",
    "```{r}\n",
    "read_delim(\"...\", # the dataset\n",
    "           delim = \"...\", # how the data is seperated eg. \",\" or \";\" or \" \" or etc\n",
    "           skip = ..., # shows how many lines to skip. Eg. if the file starts with lines of metadata like Created By UBC ...\n",
    "           col_names = TRUE) # True if file has headers false if no headers\n",
    "```"
   ]
  },
  {
   "cell_type": "code",
   "execution_count": null,
   "id": "332aef94-cada-4d8a-9c12-265e30f0301e",
   "metadata": {},
   "outputs": [],
   "source": []
  },
  {
   "cell_type": "markdown",
   "id": "9df28e4b-8633-4818-b238-14aa1572f6eb",
   "metadata": {},
   "source": [
    "<h3>Other file types</h3>\n",
    "\n",
    "Stata and SPSS files use haven package:\n",
    "\n",
    "* `install.packages(\"haven\")`\n",
    "* `read_dta(\"...\")`\n",
    "\n",
    "* `read_spss(...)`\n",
    "\n",
    "Dplyr which is part of tidyverse can already unzip .gz files:\n",
    "  \n",
    "* `read_csv(\"file.csv.gz\")`\n",
    "  \n"
   ]
  },
  {
   "cell_type": "code",
   "execution_count": null,
   "id": "0e7f0664-1d03-423b-ac82-25b5912e449e",
   "metadata": {},
   "outputs": [],
   "source": []
  },
  {
   "cell_type": "markdown",
   "id": "0317f20a-b236-498c-8231-41809a27cbf2",
   "metadata": {},
   "source": [
    "<h2> Exploring Data</h2>\n",
    "\n",
    "Other useful things: \n",
    "\n",
    "* `is.na(col_name)`\n",
    "    * returns true if a value is NA and checks each value in a vector\n",
    "    * `!is.na()` checks if there is a non NA value. Returns true if there is non NA data\n",
    "<br/><br/>\n",
    "\n",
    "* `unique(col_name)`\n",
    "    * gives unique values in a column\n",
    "<br/><br/>\n",
    "* `colnames(data_frame)`\n",
    "* `rownames(data_frame)`\n",
    "    * gives column/row names of a dataframe\n",
    "<br/><br/>\n",
    "* `slice(n, m, ...)`\n",
    "    * gets part of the dataframe\n",
    "    * df %>% slice(3:6)  # Selects rows from 3 to 6\n",
    "    * df %>% slice(3,5,6)  # Selects rows 3, 5 and 6\n",
    "<br/><br/>\n",
    "* `arrange(data_frame, col_name)`\n",
    "* `arrange(data_frame, desc(col_name))`\n",
    "    * arranges the dataframe by the col_name in ascending order. user dec(col_name) for descending \n",
    "<br/><br/>\n",
    "* `nrow(data_frame)`\n",
    "* `ncol(data_frame)`\n",
    "* `dim(data_frame)`\n",
    "    * gives # of rows or columns or dimensions of a dataframe\n",
    " \n",
    "\n"
   ]
  },
  {
   "cell_type": "markdown",
   "id": "0286b50f-9248-43b0-9058-78c328fc83c3",
   "metadata": {},
   "source": [
    "<h2>Example</h2>"
   ]
  },
  {
   "cell_type": "code",
   "execution_count": 17,
   "id": "443d408f-ba36-42a3-aa34-e29ca35102f4",
   "metadata": {},
   "outputs": [],
   "source": [
    "# uncomment and replace ... to get first 10 rows of mtcars data\n",
    "# slice(mtcars, ...:...)"
   ]
  },
  {
   "cell_type": "code",
   "execution_count": 50,
   "id": "4a2b6118-2657-42d9-bd39-50e48dbdb42c",
   "metadata": {},
   "outputs": [
    {
     "data": {
      "text/html": [
       "<table class=\"dataframe\">\n",
       "<caption>A data.frame: 10 × 11</caption>\n",
       "<thead>\n",
       "\t<tr><th></th><th scope=col>mpg</th><th scope=col>cyl</th><th scope=col>disp</th><th scope=col>hp</th><th scope=col>drat</th><th scope=col>wt</th><th scope=col>qsec</th><th scope=col>vs</th><th scope=col>am</th><th scope=col>gear</th><th scope=col>carb</th></tr>\n",
       "\t<tr><th></th><th scope=col>&lt;dbl&gt;</th><th scope=col>&lt;dbl&gt;</th><th scope=col>&lt;dbl&gt;</th><th scope=col>&lt;dbl&gt;</th><th scope=col>&lt;dbl&gt;</th><th scope=col>&lt;dbl&gt;</th><th scope=col>&lt;dbl&gt;</th><th scope=col>&lt;dbl&gt;</th><th scope=col>&lt;dbl&gt;</th><th scope=col>&lt;dbl&gt;</th><th scope=col>&lt;dbl&gt;</th></tr>\n",
       "</thead>\n",
       "<tbody>\n",
       "\t<tr><th scope=row>Mazda RX4</th><td>21.0</td><td>6</td><td>160.0</td><td>110</td><td>3.90</td><td>2.620</td><td>16.46</td><td>0</td><td>1</td><td>4</td><td>4</td></tr>\n",
       "\t<tr><th scope=row>Mazda RX4 Wag</th><td>21.0</td><td>6</td><td>160.0</td><td>110</td><td>3.90</td><td>2.875</td><td>17.02</td><td>0</td><td>1</td><td>4</td><td>4</td></tr>\n",
       "\t<tr><th scope=row>Datsun 710</th><td>22.8</td><td>4</td><td>108.0</td><td> 93</td><td>3.85</td><td>2.320</td><td>18.61</td><td>1</td><td>1</td><td>4</td><td>1</td></tr>\n",
       "\t<tr><th scope=row>Hornet 4 Drive</th><td>21.4</td><td>6</td><td>258.0</td><td>110</td><td>3.08</td><td>3.215</td><td>19.44</td><td>1</td><td>0</td><td>3</td><td>1</td></tr>\n",
       "\t<tr><th scope=row>Hornet Sportabout</th><td>18.7</td><td>8</td><td>360.0</td><td>175</td><td>3.15</td><td>3.440</td><td>17.02</td><td>0</td><td>0</td><td>3</td><td>2</td></tr>\n",
       "\t<tr><th scope=row>Valiant</th><td>18.1</td><td>6</td><td>225.0</td><td>105</td><td>2.76</td><td>3.460</td><td>20.22</td><td>1</td><td>0</td><td>3</td><td>1</td></tr>\n",
       "\t<tr><th scope=row>Duster 360</th><td>14.3</td><td>8</td><td>360.0</td><td>245</td><td>3.21</td><td>3.570</td><td>15.84</td><td>0</td><td>0</td><td>3</td><td>4</td></tr>\n",
       "\t<tr><th scope=row>Merc 240D</th><td>24.4</td><td>4</td><td>146.7</td><td> 62</td><td>3.69</td><td>3.190</td><td>20.00</td><td>1</td><td>0</td><td>4</td><td>2</td></tr>\n",
       "\t<tr><th scope=row>Merc 230</th><td>22.8</td><td>4</td><td>140.8</td><td> 95</td><td>3.92</td><td>3.150</td><td>22.90</td><td>1</td><td>0</td><td>4</td><td>2</td></tr>\n",
       "\t<tr><th scope=row>Merc 280</th><td>19.2</td><td>6</td><td>167.6</td><td>123</td><td>3.92</td><td>3.440</td><td>18.30</td><td>1</td><td>0</td><td>4</td><td>4</td></tr>\n",
       "</tbody>\n",
       "</table>\n"
      ],
      "text/latex": [
       "A data.frame: 10 × 11\n",
       "\\begin{tabular}{r|lllllllllll}\n",
       "  & mpg & cyl & disp & hp & drat & wt & qsec & vs & am & gear & carb\\\\\n",
       "  & <dbl> & <dbl> & <dbl> & <dbl> & <dbl> & <dbl> & <dbl> & <dbl> & <dbl> & <dbl> & <dbl>\\\\\n",
       "\\hline\n",
       "\tMazda RX4 & 21.0 & 6 & 160.0 & 110 & 3.90 & 2.620 & 16.46 & 0 & 1 & 4 & 4\\\\\n",
       "\tMazda RX4 Wag & 21.0 & 6 & 160.0 & 110 & 3.90 & 2.875 & 17.02 & 0 & 1 & 4 & 4\\\\\n",
       "\tDatsun 710 & 22.8 & 4 & 108.0 &  93 & 3.85 & 2.320 & 18.61 & 1 & 1 & 4 & 1\\\\\n",
       "\tHornet 4 Drive & 21.4 & 6 & 258.0 & 110 & 3.08 & 3.215 & 19.44 & 1 & 0 & 3 & 1\\\\\n",
       "\tHornet Sportabout & 18.7 & 8 & 360.0 & 175 & 3.15 & 3.440 & 17.02 & 0 & 0 & 3 & 2\\\\\n",
       "\tValiant & 18.1 & 6 & 225.0 & 105 & 2.76 & 3.460 & 20.22 & 1 & 0 & 3 & 1\\\\\n",
       "\tDuster 360 & 14.3 & 8 & 360.0 & 245 & 3.21 & 3.570 & 15.84 & 0 & 0 & 3 & 4\\\\\n",
       "\tMerc 240D & 24.4 & 4 & 146.7 &  62 & 3.69 & 3.190 & 20.00 & 1 & 0 & 4 & 2\\\\\n",
       "\tMerc 230 & 22.8 & 4 & 140.8 &  95 & 3.92 & 3.150 & 22.90 & 1 & 0 & 4 & 2\\\\\n",
       "\tMerc 280 & 19.2 & 6 & 167.6 & 123 & 3.92 & 3.440 & 18.30 & 1 & 0 & 4 & 4\\\\\n",
       "\\end{tabular}\n"
      ],
      "text/markdown": [
       "\n",
       "A data.frame: 10 × 11\n",
       "\n",
       "| <!--/--> | mpg &lt;dbl&gt; | cyl &lt;dbl&gt; | disp &lt;dbl&gt; | hp &lt;dbl&gt; | drat &lt;dbl&gt; | wt &lt;dbl&gt; | qsec &lt;dbl&gt; | vs &lt;dbl&gt; | am &lt;dbl&gt; | gear &lt;dbl&gt; | carb &lt;dbl&gt; |\n",
       "|---|---|---|---|---|---|---|---|---|---|---|---|\n",
       "| Mazda RX4 | 21.0 | 6 | 160.0 | 110 | 3.90 | 2.620 | 16.46 | 0 | 1 | 4 | 4 |\n",
       "| Mazda RX4 Wag | 21.0 | 6 | 160.0 | 110 | 3.90 | 2.875 | 17.02 | 0 | 1 | 4 | 4 |\n",
       "| Datsun 710 | 22.8 | 4 | 108.0 |  93 | 3.85 | 2.320 | 18.61 | 1 | 1 | 4 | 1 |\n",
       "| Hornet 4 Drive | 21.4 | 6 | 258.0 | 110 | 3.08 | 3.215 | 19.44 | 1 | 0 | 3 | 1 |\n",
       "| Hornet Sportabout | 18.7 | 8 | 360.0 | 175 | 3.15 | 3.440 | 17.02 | 0 | 0 | 3 | 2 |\n",
       "| Valiant | 18.1 | 6 | 225.0 | 105 | 2.76 | 3.460 | 20.22 | 1 | 0 | 3 | 1 |\n",
       "| Duster 360 | 14.3 | 8 | 360.0 | 245 | 3.21 | 3.570 | 15.84 | 0 | 0 | 3 | 4 |\n",
       "| Merc 240D | 24.4 | 4 | 146.7 |  62 | 3.69 | 3.190 | 20.00 | 1 | 0 | 4 | 2 |\n",
       "| Merc 230 | 22.8 | 4 | 140.8 |  95 | 3.92 | 3.150 | 22.90 | 1 | 0 | 4 | 2 |\n",
       "| Merc 280 | 19.2 | 6 | 167.6 | 123 | 3.92 | 3.440 | 18.30 | 1 | 0 | 4 | 4 |\n",
       "\n"
      ],
      "text/plain": [
       "                  mpg  cyl disp  hp  drat wt    qsec  vs am gear carb\n",
       "Mazda RX4         21.0 6   160.0 110 3.90 2.620 16.46 0  1  4    4   \n",
       "Mazda RX4 Wag     21.0 6   160.0 110 3.90 2.875 17.02 0  1  4    4   \n",
       "Datsun 710        22.8 4   108.0  93 3.85 2.320 18.61 1  1  4    1   \n",
       "Hornet 4 Drive    21.4 6   258.0 110 3.08 3.215 19.44 1  0  3    1   \n",
       "Hornet Sportabout 18.7 8   360.0 175 3.15 3.440 17.02 0  0  3    2   \n",
       "Valiant           18.1 6   225.0 105 2.76 3.460 20.22 1  0  3    1   \n",
       "Duster 360        14.3 8   360.0 245 3.21 3.570 15.84 0  0  3    4   \n",
       "Merc 240D         24.4 4   146.7  62 3.69 3.190 20.00 1  0  4    2   \n",
       "Merc 230          22.8 4   140.8  95 3.92 3.150 22.90 1  0  4    2   \n",
       "Merc 280          19.2 6   167.6 123 3.92 3.440 18.30 1  0  4    4   "
      ]
     },
     "metadata": {},
     "output_type": "display_data"
    }
   ],
   "source": [
    "slice(mtcars, 1:10)"
   ]
  },
  {
   "cell_type": "code",
   "execution_count": 18,
   "id": "fed04458-9d56-420c-af31-d52195e06d9d",
   "metadata": {},
   "outputs": [],
   "source": [
    "# what are the dimensions of mtcars?\n",
    "#uncomment and replace ... \n",
    "# ...(mtcars)\n",
    "# what are the column names?\n",
    "#...(mtcars)"
   ]
  },
  {
   "cell_type": "code",
   "execution_count": 19,
   "id": "c0b3e919-b9da-46d6-89f0-a201712da66c",
   "metadata": {
    "scrolled": true
   },
   "outputs": [],
   "source": [
    "# What are the different types of engines in the data? (eg. 4 cylinder, 6 cylinder) \n",
    "# uncomment and replace ...\n",
    "#...(mtcars$...)\n",
    "\n",
    "# What are all teh different types of cars in the dataset?\n",
    "#...(...)"
   ]
  },
  {
   "cell_type": "markdown",
   "id": "b23e66e8-d30c-446d-97ab-54b8e8b7067e",
   "metadata": {},
   "source": [
    "<H2>2. Basic Cleaning</H2>\n",
    "\n",
    "Tidy Data:\n",
    "* each column is a single variable\n",
    "* each row is a single case/observation\n",
    "* each cell is a single value (e.g. not [David 200 \"Sales Dept\"])\n",
    "\n",
    "Below will use the pipe operator `|>`: <br> This lets you chain operations into an easy to read format. It assumes the results of the previous operation become the 1st argument of the next function."
   ]
  },
  {
   "cell_type": "code",
   "execution_count": 3,
   "id": "77c146f3-5a1c-4d63-b17c-3b6a0134fe8b",
   "metadata": {},
   "outputs": [
    {
     "data": {
      "text/html": [
       "<table class=\"dataframe\">\n",
       "<caption>A tibble: 6 × 6</caption>\n",
       "<thead>\n",
       "\t<tr><th scope=col>country_id</th><th scope=col>country_code</th><th scope=col>gdp</th><th scope=col>pop</th><th scope=col>alliance</th><th scope=col>democratic</th></tr>\n",
       "\t<tr><th scope=col>&lt;int&gt;</th><th scope=col>&lt;chr&gt;</th><th scope=col>&lt;dbl&gt;</th><th scope=col>&lt;dbl&gt;</th><th scope=col>&lt;chr&gt;</th><th scope=col>&lt;lgl&gt;</th></tr>\n",
       "</thead>\n",
       "<tbody>\n",
       "\t<tr><td>1</td><td>A</td><td>49879293</td><td>971263.0</td><td>G</td><td>FALSE</td></tr>\n",
       "\t<tr><td>2</td><td>B</td><td>50027743</td><td>972668.4</td><td>H</td><td>FALSE</td></tr>\n",
       "\t<tr><td>3</td><td>C</td><td>50108444</td><td>971777.4</td><td>I</td><td> TRUE</td></tr>\n",
       "\t<tr><td>4</td><td>D</td><td>49765430</td><td>955498.1</td><td>G</td><td> TRUE</td></tr>\n",
       "\t<tr><td>5</td><td>E</td><td>50042912</td><td>976140.4</td><td>H</td><td> TRUE</td></tr>\n",
       "\t<tr><td>6</td><td>F</td><td>50050606</td><td>950080.7</td><td>I</td><td>FALSE</td></tr>\n",
       "</tbody>\n",
       "</table>\n"
      ],
      "text/latex": [
       "A tibble: 6 × 6\n",
       "\\begin{tabular}{llllll}\n",
       " country\\_id & country\\_code & gdp & pop & alliance & democratic\\\\\n",
       " <int> & <chr> & <dbl> & <dbl> & <chr> & <lgl>\\\\\n",
       "\\hline\n",
       "\t 1 & A & 49879293 & 971263.0 & G & FALSE\\\\\n",
       "\t 2 & B & 50027743 & 972668.4 & H & FALSE\\\\\n",
       "\t 3 & C & 50108444 & 971777.4 & I &  TRUE\\\\\n",
       "\t 4 & D & 49765430 & 955498.1 & G &  TRUE\\\\\n",
       "\t 5 & E & 50042912 & 976140.4 & H &  TRUE\\\\\n",
       "\t 6 & F & 50050606 & 950080.7 & I & FALSE\\\\\n",
       "\\end{tabular}\n"
      ],
      "text/markdown": [
       "\n",
       "A tibble: 6 × 6\n",
       "\n",
       "| country_id &lt;int&gt; | country_code &lt;chr&gt; | gdp &lt;dbl&gt; | pop &lt;dbl&gt; | alliance &lt;chr&gt; | democratic &lt;lgl&gt; |\n",
       "|---|---|---|---|---|---|\n",
       "| 1 | A | 49879293 | 971263.0 | G | FALSE |\n",
       "| 2 | B | 50027743 | 972668.4 | H | FALSE |\n",
       "| 3 | C | 50108444 | 971777.4 | I |  TRUE |\n",
       "| 4 | D | 49765430 | 955498.1 | G |  TRUE |\n",
       "| 5 | E | 50042912 | 976140.4 | H |  TRUE |\n",
       "| 6 | F | 50050606 | 950080.7 | I | FALSE |\n",
       "\n"
      ],
      "text/plain": [
       "  country_id country_code gdp      pop      alliance democratic\n",
       "1 1          A            49879293 971263.0 G        FALSE     \n",
       "2 2          B            50027743 972668.4 H        FALSE     \n",
       "3 3          C            50108444 971777.4 I         TRUE     \n",
       "4 4          D            49765430 955498.1 G         TRUE     \n",
       "5 5          E            50042912 976140.4 H         TRUE     \n",
       "6 6          F            50050606 950080.7 I        FALSE     "
      ]
     },
     "metadata": {},
     "output_type": "display_data"
    }
   ],
   "source": [
    "# Make a radom fake dataset:\n",
    "set.seed(1234) # so we always make the same random numbers\n",
    "\n",
    "fake_country_data <- tibble(country_id = 1:6,\n",
    "                       country_code = LETTERS[1:6],\n",
    "                       gdp = rnorm(6, mean = 50000000, sd = 100000), # make 6 random gdp\n",
    "                       pop = rnorm(6, mean = 1000000, sd = 50000), # make 6 random populations\n",
    "                       alliance = rep(LETTERS [7:9], length.out = 6), # assign E,F,G as alliance to 6 rows\n",
    "                       democratic = sample(rep(c(TRUE, FALSE), each = 3)), # assign democratic = TRUE to 3 countries\n",
    "                \n",
    "                      ) \n",
    "fake_country_data"
   ]
  },
  {
   "cell_type": "markdown",
   "id": "3d8927a1-ab36-42dd-8695-1ad7385fc715",
   "metadata": {},
   "source": [
    "<h3>Piping mutate, filter, select</h3> \n",
    "Let's try some chaining some mutate, filters, and selections:\n",
    "\n",
    "```{r}\n",
    "new_dataset <- dataset_source |>\n",
    "\tmutate(new_column = column1 * column2) |>\n",
    "\tfilter(another_column > X) |>\n",
    "\tselect(new_column)\n",
    "```\n",
    "This would take the dataset_source,  **AND THEN** <br> \n",
    "mutate it so you create a new_column made of column1 * column2,  **AND THEN**<br> \n",
    "filter out any rows where another colunm has a value > X,  **AND THEN** <br>\n",
    "select the new column we made to make new_dataset"
   ]
  },
  {
   "cell_type": "markdown",
   "id": "447abb59-b053-4ac4-b2b5-d6efb4bb97a6",
   "metadata": {},
   "source": [
    "<h2>Example</h2>\n",
    "Try using fake_country_data and creating:\n",
    "\n",
    "1. a column named gdp_per_capita\n",
    "2. filtering for gdp_per_capita > average and democratic == False\n",
    "4. selecting the country_code, gdp_per_capita, and alliance"
   ]
  },
  {
   "cell_type": "code",
   "execution_count": 4,
   "id": "2bf51646-310c-4cbf-93e1-1c23296ad9e9",
   "metadata": {},
   "outputs": [],
   "source": [
    "# uncomment and replace ...\n",
    "# subset_data <- ... |>\n",
    "#     mutate(... = ... ... ...) |>\n",
    "#     ...(... > mean(...) |>\n",
    "#     select(... , ... , ...)\n",
    "\n",
    "# subset_data"
   ]
  },
  {
   "cell_type": "code",
   "execution_count": 5,
   "id": "6f9c3fe4-6fde-4ecd-b069-4af3b27ada01",
   "metadata": {},
   "outputs": [
    {
     "data": {
      "text/html": [
       "<table class=\"dataframe\">\n",
       "<caption>A tibble: 2 × 3</caption>\n",
       "<thead>\n",
       "\t<tr><th scope=col>country_code</th><th scope=col>gdp_per_capita</th><th scope=col>alliance</th></tr>\n",
       "\t<tr><th scope=col>&lt;chr&gt;</th><th scope=col>&lt;dbl&gt;</th><th scope=col>&lt;chr&gt;</th></tr>\n",
       "</thead>\n",
       "<tbody>\n",
       "\t<tr><td>D</td><td>52.08323</td><td>G</td></tr>\n",
       "\t<tr><td>F</td><td>52.68037</td><td>I</td></tr>\n",
       "</tbody>\n",
       "</table>\n"
      ],
      "text/latex": [
       "A tibble: 2 × 3\n",
       "\\begin{tabular}{lll}\n",
       " country\\_code & gdp\\_per\\_capita & alliance\\\\\n",
       " <chr> & <dbl> & <chr>\\\\\n",
       "\\hline\n",
       "\t D & 52.08323 & G\\\\\n",
       "\t F & 52.68037 & I\\\\\n",
       "\\end{tabular}\n"
      ],
      "text/markdown": [
       "\n",
       "A tibble: 2 × 3\n",
       "\n",
       "| country_code &lt;chr&gt; | gdp_per_capita &lt;dbl&gt; | alliance &lt;chr&gt; |\n",
       "|---|---|---|\n",
       "| D | 52.08323 | G |\n",
       "| F | 52.68037 | I |\n",
       "\n"
      ],
      "text/plain": [
       "  country_code gdp_per_capita alliance\n",
       "1 D            52.08323       G       \n",
       "2 F            52.68037       I       "
      ]
     },
     "metadata": {},
     "output_type": "display_data"
    }
   ],
   "source": [
    "# my answer\n",
    "subset_data <- fake_country_data |>\n",
    "    mutate(gdp_per_capita = gdp / pop) |>\n",
    "    filter(gdp_per_capita > mean(gdp_per_capita)) |>\n",
    "    select(country_code , gdp_per_capita , alliance)\n",
    "\n",
    "subset_data"
   ]
  },
  {
   "cell_type": "markdown",
   "id": "50a326fa-d0e3-41e5-a33f-968f2dad6a22",
   "metadata": {},
   "source": [
    "You can use many other operators in filter (eg.>=, <=, ==, !=) or filter for multiple columns at once."
   ]
  },
  {
   "cell_type": "markdown",
   "id": "d49dc52e-4149-4a14-bf9a-b68d0c841a63",
   "metadata": {},
   "source": [
    "<h2>Group by, summarize, n </h2>\n",
    "Let's try some chaining some mutate, filters, and selections\n",
    "\n",
    "```{r}\n",
    "new_dataset <- dataset_source |>\n",
    "    group_by(some_column) |>                 # group by the values in some column(s)\n",
    "    summarize (mean = mean(another column),  # create a new column that summarizes something\n",
    "                n = n()\n",
    "    )\n",
    "```\n",
    "\n",
    "\n",
    "\n",
    "Let's find the average gdp of democracies and non democracies and how many are in that dataset"
   ]
  },
  {
   "cell_type": "code",
   "execution_count": 7,
   "id": "c824de3f-60fa-408f-a40d-480a66714876",
   "metadata": {},
   "outputs": [],
   "source": [
    "# uncomment and replace ...\n",
    "# group_data <- ... |>\n",
    "#     group_by(...) |>\n",
    "#     summarize(... = ...(...),\n",
    "#              n = n())\n",
    "\n",
    "# group_data"
   ]
  },
  {
   "cell_type": "code",
   "execution_count": 8,
   "id": "37d0bd7e-8c25-4a5a-9de4-36d44b2df4c7",
   "metadata": {},
   "outputs": [
    {
     "data": {
      "text/html": [
       "<table class=\"dataframe\">\n",
       "<caption>A tibble: 2 × 3</caption>\n",
       "<thead>\n",
       "\t<tr><th scope=col>democratic</th><th scope=col>mean</th><th scope=col>n</th></tr>\n",
       "\t<tr><th scope=col>&lt;lgl&gt;</th><th scope=col>&lt;dbl&gt;</th><th scope=col>&lt;int&gt;</th></tr>\n",
       "</thead>\n",
       "<tbody>\n",
       "\t<tr><td>FALSE</td><td>49985881</td><td>3</td></tr>\n",
       "\t<tr><td> TRUE</td><td>49972262</td><td>3</td></tr>\n",
       "</tbody>\n",
       "</table>\n"
      ],
      "text/latex": [
       "A tibble: 2 × 3\n",
       "\\begin{tabular}{lll}\n",
       " democratic & mean & n\\\\\n",
       " <lgl> & <dbl> & <int>\\\\\n",
       "\\hline\n",
       "\t FALSE & 49985881 & 3\\\\\n",
       "\t  TRUE & 49972262 & 3\\\\\n",
       "\\end{tabular}\n"
      ],
      "text/markdown": [
       "\n",
       "A tibble: 2 × 3\n",
       "\n",
       "| democratic &lt;lgl&gt; | mean &lt;dbl&gt; | n &lt;int&gt; |\n",
       "|---|---|---|\n",
       "| FALSE | 49985881 | 3 |\n",
       "|  TRUE | 49972262 | 3 |\n",
       "\n"
      ],
      "text/plain": [
       "  democratic mean     n\n",
       "1 FALSE      49985881 3\n",
       "2  TRUE      49972262 3"
      ]
     },
     "metadata": {},
     "output_type": "display_data"
    }
   ],
   "source": [
    "# sample answer\n",
    "group_data <- fake_country_data |>\n",
    "    group_by(democratic) |>\n",
    "    summarize(mean = mean(gdp),\n",
    "             n = n())\n",
    "\n",
    "group_data"
   ]
  },
  {
   "cell_type": "markdown",
   "id": "7669718a-c4e0-4561-a0c0-907eb5fda704",
   "metadata": {},
   "source": [
    "You can make your own funtions or use many other functions in summarize. Play around with other functions. "
   ]
  },
  {
   "cell_type": "code",
   "execution_count": null,
   "id": "2e30bbbb-ca79-445e-b470-625dbae45ed3",
   "metadata": {},
   "outputs": [],
   "source": []
  },
  {
   "cell_type": "markdown",
   "id": "b7eea8df-9db2-4604-b142-a82bcc975fd9",
   "metadata": {},
   "source": [
    "<h2>3. Merging Data</h2>"
   ]
  },
  {
   "cell_type": "code",
   "execution_count": 9,
   "id": "5b20dcdb-f57a-4d47-8a2d-d01d36ab4c40",
   "metadata": {},
   "outputs": [],
   "source": [
    "#generate some fake data to merge\n",
    "\n",
    "df1 <- tibble(city_id = c(1, 2, 3, 4),\n",
    "                  city = c(\"Amsterdam\", \"Bangkok\", \"Chongqing\", \"Delhi\"),\n",
    "                  votes = c(25, 30, 35, 40))\n",
    "\n",
    "df2 <- data.frame(city_id = c(3, 4, 5, 6),\n",
    "                  cost = c(590, 285, 480, 725))\n"
   ]
  },
  {
   "cell_type": "markdown",
   "id": "1d9cc462-6b19-43b7-81fc-8da351397832",
   "metadata": {},
   "source": [
    "Try to fill in the ... to merge the ticket cost to the city:\n"
   ]
  },
  {
   "cell_type": "code",
   "execution_count": 10,
   "id": "0a00f8e1-d64c-49bf-a8b5-1817f5e86211",
   "metadata": {},
   "outputs": [],
   "source": [
    "# uncomment the code and fill in the ...\n",
    "# merged_data <- ..._join(..., ..., by = ...)\n",
    "# merged_data"
   ]
  },
  {
   "cell_type": "code",
   "execution_count": 11,
   "id": "710616e8-52f5-4dfd-8fd6-2899fc13460c",
   "metadata": {},
   "outputs": [
    {
     "data": {
      "text/html": [
       "<table class=\"dataframe\">\n",
       "<caption>A tibble: 2 × 4</caption>\n",
       "<thead>\n",
       "\t<tr><th scope=col>city_id</th><th scope=col>city</th><th scope=col>votes</th><th scope=col>cost</th></tr>\n",
       "\t<tr><th scope=col>&lt;dbl&gt;</th><th scope=col>&lt;chr&gt;</th><th scope=col>&lt;dbl&gt;</th><th scope=col>&lt;dbl&gt;</th></tr>\n",
       "</thead>\n",
       "<tbody>\n",
       "\t<tr><td>3</td><td>Chongqing</td><td>35</td><td>590</td></tr>\n",
       "\t<tr><td>4</td><td>Delhi    </td><td>40</td><td>285</td></tr>\n",
       "</tbody>\n",
       "</table>\n"
      ],
      "text/latex": [
       "A tibble: 2 × 4\n",
       "\\begin{tabular}{llll}\n",
       " city\\_id & city & votes & cost\\\\\n",
       " <dbl> & <chr> & <dbl> & <dbl>\\\\\n",
       "\\hline\n",
       "\t 3 & Chongqing & 35 & 590\\\\\n",
       "\t 4 & Delhi     & 40 & 285\\\\\n",
       "\\end{tabular}\n"
      ],
      "text/markdown": [
       "\n",
       "A tibble: 2 × 4\n",
       "\n",
       "| city_id &lt;dbl&gt; | city &lt;chr&gt; | votes &lt;dbl&gt; | cost &lt;dbl&gt; |\n",
       "|---|---|---|---|\n",
       "| 3 | Chongqing | 35 | 590 |\n",
       "| 4 | Delhi     | 40 | 285 |\n",
       "\n"
      ],
      "text/plain": [
       "  city_id city      votes cost\n",
       "1 3       Chongqing 35    590 \n",
       "2 4       Delhi     40    285 "
      ]
     },
     "metadata": {},
     "output_type": "display_data"
    },
    {
     "data": {
      "text/html": [
       "<table class=\"dataframe\">\n",
       "<caption>A tibble: 4 × 4</caption>\n",
       "<thead>\n",
       "\t<tr><th scope=col>city_id</th><th scope=col>city</th><th scope=col>votes</th><th scope=col>cost</th></tr>\n",
       "\t<tr><th scope=col>&lt;dbl&gt;</th><th scope=col>&lt;chr&gt;</th><th scope=col>&lt;dbl&gt;</th><th scope=col>&lt;dbl&gt;</th></tr>\n",
       "</thead>\n",
       "<tbody>\n",
       "\t<tr><td>1</td><td>Amsterdam</td><td>25</td><td> NA</td></tr>\n",
       "\t<tr><td>2</td><td>Bangkok  </td><td>30</td><td> NA</td></tr>\n",
       "\t<tr><td>3</td><td>Chongqing</td><td>35</td><td>590</td></tr>\n",
       "\t<tr><td>4</td><td>Delhi    </td><td>40</td><td>285</td></tr>\n",
       "</tbody>\n",
       "</table>\n"
      ],
      "text/latex": [
       "A tibble: 4 × 4\n",
       "\\begin{tabular}{llll}\n",
       " city\\_id & city & votes & cost\\\\\n",
       " <dbl> & <chr> & <dbl> & <dbl>\\\\\n",
       "\\hline\n",
       "\t 1 & Amsterdam & 25 &  NA\\\\\n",
       "\t 2 & Bangkok   & 30 &  NA\\\\\n",
       "\t 3 & Chongqing & 35 & 590\\\\\n",
       "\t 4 & Delhi     & 40 & 285\\\\\n",
       "\\end{tabular}\n"
      ],
      "text/markdown": [
       "\n",
       "A tibble: 4 × 4\n",
       "\n",
       "| city_id &lt;dbl&gt; | city &lt;chr&gt; | votes &lt;dbl&gt; | cost &lt;dbl&gt; |\n",
       "|---|---|---|---|\n",
       "| 1 | Amsterdam | 25 |  NA |\n",
       "| 2 | Bangkok   | 30 |  NA |\n",
       "| 3 | Chongqing | 35 | 590 |\n",
       "| 4 | Delhi     | 40 | 285 |\n",
       "\n"
      ],
      "text/plain": [
       "  city_id city      votes cost\n",
       "1 1       Amsterdam 25     NA \n",
       "2 2       Bangkok   30     NA \n",
       "3 3       Chongqing 35    590 \n",
       "4 4       Delhi     40    285 "
      ]
     },
     "metadata": {},
     "output_type": "display_data"
    },
    {
     "data": {
      "text/html": [
       "<table class=\"dataframe\">\n",
       "<caption>A tibble: 4 × 4</caption>\n",
       "<thead>\n",
       "\t<tr><th scope=col>city_id</th><th scope=col>city</th><th scope=col>votes</th><th scope=col>cost</th></tr>\n",
       "\t<tr><th scope=col>&lt;dbl&gt;</th><th scope=col>&lt;chr&gt;</th><th scope=col>&lt;dbl&gt;</th><th scope=col>&lt;dbl&gt;</th></tr>\n",
       "</thead>\n",
       "<tbody>\n",
       "\t<tr><td>3</td><td>Chongqing</td><td>35</td><td>590</td></tr>\n",
       "\t<tr><td>4</td><td>Delhi    </td><td>40</td><td>285</td></tr>\n",
       "\t<tr><td>5</td><td>NA       </td><td>NA</td><td>480</td></tr>\n",
       "\t<tr><td>6</td><td>NA       </td><td>NA</td><td>725</td></tr>\n",
       "</tbody>\n",
       "</table>\n"
      ],
      "text/latex": [
       "A tibble: 4 × 4\n",
       "\\begin{tabular}{llll}\n",
       " city\\_id & city & votes & cost\\\\\n",
       " <dbl> & <chr> & <dbl> & <dbl>\\\\\n",
       "\\hline\n",
       "\t 3 & Chongqing & 35 & 590\\\\\n",
       "\t 4 & Delhi     & 40 & 285\\\\\n",
       "\t 5 & NA        & NA & 480\\\\\n",
       "\t 6 & NA        & NA & 725\\\\\n",
       "\\end{tabular}\n"
      ],
      "text/markdown": [
       "\n",
       "A tibble: 4 × 4\n",
       "\n",
       "| city_id &lt;dbl&gt; | city &lt;chr&gt; | votes &lt;dbl&gt; | cost &lt;dbl&gt; |\n",
       "|---|---|---|---|\n",
       "| 3 | Chongqing | 35 | 590 |\n",
       "| 4 | Delhi     | 40 | 285 |\n",
       "| 5 | NA        | NA | 480 |\n",
       "| 6 | NA        | NA | 725 |\n",
       "\n"
      ],
      "text/plain": [
       "  city_id city      votes cost\n",
       "1 3       Chongqing 35    590 \n",
       "2 4       Delhi     40    285 \n",
       "3 5       NA        NA    480 \n",
       "4 6       NA        NA    725 "
      ]
     },
     "metadata": {},
     "output_type": "display_data"
    },
    {
     "data": {
      "text/html": [
       "<table class=\"dataframe\">\n",
       "<caption>A tibble: 6 × 4</caption>\n",
       "<thead>\n",
       "\t<tr><th scope=col>city_id</th><th scope=col>city</th><th scope=col>votes</th><th scope=col>cost</th></tr>\n",
       "\t<tr><th scope=col>&lt;dbl&gt;</th><th scope=col>&lt;chr&gt;</th><th scope=col>&lt;dbl&gt;</th><th scope=col>&lt;dbl&gt;</th></tr>\n",
       "</thead>\n",
       "<tbody>\n",
       "\t<tr><td>1</td><td>Amsterdam</td><td>25</td><td> NA</td></tr>\n",
       "\t<tr><td>2</td><td>Bangkok  </td><td>30</td><td> NA</td></tr>\n",
       "\t<tr><td>3</td><td>Chongqing</td><td>35</td><td>590</td></tr>\n",
       "\t<tr><td>4</td><td>Delhi    </td><td>40</td><td>285</td></tr>\n",
       "\t<tr><td>5</td><td>NA       </td><td>NA</td><td>480</td></tr>\n",
       "\t<tr><td>6</td><td>NA       </td><td>NA</td><td>725</td></tr>\n",
       "</tbody>\n",
       "</table>\n"
      ],
      "text/latex": [
       "A tibble: 6 × 4\n",
       "\\begin{tabular}{llll}\n",
       " city\\_id & city & votes & cost\\\\\n",
       " <dbl> & <chr> & <dbl> & <dbl>\\\\\n",
       "\\hline\n",
       "\t 1 & Amsterdam & 25 &  NA\\\\\n",
       "\t 2 & Bangkok   & 30 &  NA\\\\\n",
       "\t 3 & Chongqing & 35 & 590\\\\\n",
       "\t 4 & Delhi     & 40 & 285\\\\\n",
       "\t 5 & NA        & NA & 480\\\\\n",
       "\t 6 & NA        & NA & 725\\\\\n",
       "\\end{tabular}\n"
      ],
      "text/markdown": [
       "\n",
       "A tibble: 6 × 4\n",
       "\n",
       "| city_id &lt;dbl&gt; | city &lt;chr&gt; | votes &lt;dbl&gt; | cost &lt;dbl&gt; |\n",
       "|---|---|---|---|\n",
       "| 1 | Amsterdam | 25 |  NA |\n",
       "| 2 | Bangkok   | 30 |  NA |\n",
       "| 3 | Chongqing | 35 | 590 |\n",
       "| 4 | Delhi     | 40 | 285 |\n",
       "| 5 | NA        | NA | 480 |\n",
       "| 6 | NA        | NA | 725 |\n",
       "\n"
      ],
      "text/plain": [
       "  city_id city      votes cost\n",
       "1 1       Amsterdam 25     NA \n",
       "2 2       Bangkok   30     NA \n",
       "3 3       Chongqing 35    590 \n",
       "4 4       Delhi     40    285 \n",
       "5 5       NA        NA    480 \n",
       "6 6       NA        NA    725 "
      ]
     },
     "metadata": {},
     "output_type": "display_data"
    }
   ],
   "source": [
    "#create a df2 with a different id column name\n",
    "df3 <- data.frame(ticket_id = c(3, 4, 5, 6),\n",
    "                  cost = c(590, 285, 480, 725))\n",
    "\n",
    "# Inner join matches from both dataframes:\n",
    "inner_join_data <- inner_join(df1, df3, by = c(\"city_id\" = \"ticket_id\"))\n",
    "\n",
    "inner_join_data\n",
    "\n",
    "# Left join (combine df2 to df1 if there is a match in df1)\n",
    "left_join_data <- left_join(df1, df3, by = c(\"city_id\" = \"ticket_id\"))\n",
    "\n",
    "left_join_data\n",
    "\n",
    "# Right join (combine df1 to df2 if there is a match in df2)\n",
    "right_join_data <-right_join(df1, df3, by = c(\"city_id\" = \"ticket_id\"))\n",
    "\n",
    "right_join_data\n",
    "\n",
    "# Full join (combine all rows. if no match just append)\n",
    "full_join_data <- full_join(df1, df3, by = c(\"city_id\" = \"ticket_id\"))\n",
    "\n",
    "full_join_data"
   ]
  },
  {
   "cell_type": "markdown",
   "id": "6bfbba19-8a3b-47fe-af2c-87215bc5a455",
   "metadata": {},
   "source": [
    "<h2>4. Pivot Data</h2>\n",
    "Sometimes Data is recorded in a wide format because it is easier for humans to work with that way. We might find it easier to work with data in a long format. Let's try moving between the two."
   ]
  },
  {
   "cell_type": "markdown",
   "id": "15f418a6-7387-4c19-b810-2dee9568242c",
   "metadata": {},
   "source": [
    "    "
   ]
  },
  {
   "cell_type": "code",
   "execution_count": 12,
   "id": "17fc611b-5f1c-4474-86e4-0edac9046dd3",
   "metadata": {
    "scrolled": true
   },
   "outputs": [
    {
     "data": {
      "text/html": [
       "<table class=\"dataframe\">\n",
       "<caption>A tibble: 6 × 13</caption>\n",
       "<thead>\n",
       "\t<tr><th scope=col>year</th><th scope=col>January</th><th scope=col>February</th><th scope=col>March</th><th scope=col>April</th><th scope=col>May</th><th scope=col>June</th><th scope=col>July</th><th scope=col>August</th><th scope=col>September</th><th scope=col>October</th><th scope=col>November</th><th scope=col>December</th></tr>\n",
       "\t<tr><th scope=col>&lt;int&gt;</th><th scope=col>&lt;int&gt;</th><th scope=col>&lt;int&gt;</th><th scope=col>&lt;int&gt;</th><th scope=col>&lt;int&gt;</th><th scope=col>&lt;int&gt;</th><th scope=col>&lt;int&gt;</th><th scope=col>&lt;int&gt;</th><th scope=col>&lt;int&gt;</th><th scope=col>&lt;int&gt;</th><th scope=col>&lt;int&gt;</th><th scope=col>&lt;int&gt;</th><th scope=col>&lt;int&gt;</th></tr>\n",
       "</thead>\n",
       "<tbody>\n",
       "\t<tr><td>2000</td><td>28</td><td>70</td><td> 56</td><td>  3</td><td>49</td><td>17</td><td>10</td><td>41</td><td>60</td><td> 6</td><td> 80</td><td>43</td></tr>\n",
       "\t<tr><td>2001</td><td>80</td><td>79</td><td> 67</td><td> 87</td><td>56</td><td>63</td><td>55</td><td>63</td><td>65</td><td>85</td><td> 11</td><td>19</td></tr>\n",
       "\t<tr><td>2002</td><td>22</td><td>78</td><td>100</td><td> 41</td><td>51</td><td> 8</td><td>22</td><td>71</td><td>36</td><td>85</td><td> 60</td><td>22</td></tr>\n",
       "\t<tr><td>2003</td><td> 9</td><td>14</td><td> 95</td><td>100</td><td> 6</td><td>96</td><td>25</td><td>61</td><td>28</td><td>32</td><td>100</td><td>46</td></tr>\n",
       "\t<tr><td>2004</td><td> 5</td><td>56</td><td> 93</td><td> 72</td><td>49</td><td>22</td><td> 3</td><td>96</td><td>19</td><td>77</td><td> 35</td><td>40</td></tr>\n",
       "\t<tr><td>2005</td><td>38</td><td>62</td><td>  5</td><td> 32</td><td>93</td><td>35</td><td>83</td><td>51</td><td> 9</td><td>17</td><td> 90</td><td>29</td></tr>\n",
       "</tbody>\n",
       "</table>\n"
      ],
      "text/latex": [
       "A tibble: 6 × 13\n",
       "\\begin{tabular}{lllllllllllll}\n",
       " year & January & February & March & April & May & June & July & August & September & October & November & December\\\\\n",
       " <int> & <int> & <int> & <int> & <int> & <int> & <int> & <int> & <int> & <int> & <int> & <int> & <int>\\\\\n",
       "\\hline\n",
       "\t 2000 & 28 & 70 &  56 &   3 & 49 & 17 & 10 & 41 & 60 &  6 &  80 & 43\\\\\n",
       "\t 2001 & 80 & 79 &  67 &  87 & 56 & 63 & 55 & 63 & 65 & 85 &  11 & 19\\\\\n",
       "\t 2002 & 22 & 78 & 100 &  41 & 51 &  8 & 22 & 71 & 36 & 85 &  60 & 22\\\\\n",
       "\t 2003 &  9 & 14 &  95 & 100 &  6 & 96 & 25 & 61 & 28 & 32 & 100 & 46\\\\\n",
       "\t 2004 &  5 & 56 &  93 &  72 & 49 & 22 &  3 & 96 & 19 & 77 &  35 & 40\\\\\n",
       "\t 2005 & 38 & 62 &   5 &  32 & 93 & 35 & 83 & 51 &  9 & 17 &  90 & 29\\\\\n",
       "\\end{tabular}\n"
      ],
      "text/markdown": [
       "\n",
       "A tibble: 6 × 13\n",
       "\n",
       "| year &lt;int&gt; | January &lt;int&gt; | February &lt;int&gt; | March &lt;int&gt; | April &lt;int&gt; | May &lt;int&gt; | June &lt;int&gt; | July &lt;int&gt; | August &lt;int&gt; | September &lt;int&gt; | October &lt;int&gt; | November &lt;int&gt; | December &lt;int&gt; |\n",
       "|---|---|---|---|---|---|---|---|---|---|---|---|---|\n",
       "| 2000 | 28 | 70 |  56 |   3 | 49 | 17 | 10 | 41 | 60 |  6 |  80 | 43 |\n",
       "| 2001 | 80 | 79 |  67 |  87 | 56 | 63 | 55 | 63 | 65 | 85 |  11 | 19 |\n",
       "| 2002 | 22 | 78 | 100 |  41 | 51 |  8 | 22 | 71 | 36 | 85 |  60 | 22 |\n",
       "| 2003 |  9 | 14 |  95 | 100 |  6 | 96 | 25 | 61 | 28 | 32 | 100 | 46 |\n",
       "| 2004 |  5 | 56 |  93 |  72 | 49 | 22 |  3 | 96 | 19 | 77 |  35 | 40 |\n",
       "| 2005 | 38 | 62 |   5 |  32 | 93 | 35 | 83 | 51 |  9 | 17 |  90 | 29 |\n",
       "\n"
      ],
      "text/plain": [
       "  year January February March April May June July August September October\n",
       "1 2000 28      70        56     3   49  17   10   41     60         6     \n",
       "2 2001 80      79        67    87   56  63   55   63     65        85     \n",
       "3 2002 22      78       100    41   51   8   22   71     36        85     \n",
       "4 2003  9      14        95   100    6  96   25   61     28        32     \n",
       "5 2004  5      56        93    72   49  22    3   96     19        77     \n",
       "6 2005 38      62         5    32   93  35   83   51      9        17     \n",
       "  November December\n",
       "1  80      43      \n",
       "2  11      19      \n",
       "3  60      22      \n",
       "4 100      46      \n",
       "5  35      40      \n",
       "6  90      29      "
      ]
     },
     "metadata": {},
     "output_type": "display_data"
    }
   ],
   "source": [
    "#generate a fake sales data set\n",
    "years <- 2000:2010\n",
    "months <- month.name\n",
    "\n",
    "set.seed(1234)  # so your random number generators are based on the same seed and makes the same random set\n",
    "sales_data <- tibble(year = years)\n",
    "for (month in months) {\n",
    "  sales_data[[month]] <- sample(1:100, length(years), replace = TRUE)\n",
    "}\n",
    "head(sales_data)"
   ]
  },
  {
   "cell_type": "code",
   "execution_count": 14,
   "id": "582e700d-e4fa-4031-b265-d63569ae765f",
   "metadata": {},
   "outputs": [],
   "source": [
    "#Make your own long data:\n",
    "# uncomment and replace\n",
    "# long_sales_data <- ... |> # takes a data frame\n",
    "#        pivot_longer(cols = # choose which columns to pivot, the names of these columns becomne a value in a new column you create\n",
    "#                     names_to = \"...\", # what will the name of this new column you create be?\n",
    "#                     values_to = \"...\") # what will the names of those column's values be?\n",
    "\n",
    "# head(long_sales_data) # view the top 5\n",
    "# tail(long_sales_data) # view the bot 5"
   ]
  },
  {
   "cell_type": "code",
   "execution_count": 15,
   "id": "98b28240-a1ac-400c-8347-53448fb8a42e",
   "metadata": {},
   "outputs": [
    {
     "data": {
      "text/html": [
       "<table class=\"dataframe\">\n",
       "<caption>A tibble: 6 × 3</caption>\n",
       "<thead>\n",
       "\t<tr><th scope=col>year</th><th scope=col>month</th><th scope=col>units_sold</th></tr>\n",
       "\t<tr><th scope=col>&lt;int&gt;</th><th scope=col>&lt;chr&gt;</th><th scope=col>&lt;int&gt;</th></tr>\n",
       "</thead>\n",
       "<tbody>\n",
       "\t<tr><td>2000</td><td>January </td><td>28</td></tr>\n",
       "\t<tr><td>2000</td><td>February</td><td>70</td></tr>\n",
       "\t<tr><td>2000</td><td>March   </td><td>56</td></tr>\n",
       "\t<tr><td>2000</td><td>April   </td><td> 3</td></tr>\n",
       "\t<tr><td>2000</td><td>May     </td><td>49</td></tr>\n",
       "\t<tr><td>2000</td><td>June    </td><td>17</td></tr>\n",
       "</tbody>\n",
       "</table>\n"
      ],
      "text/latex": [
       "A tibble: 6 × 3\n",
       "\\begin{tabular}{lll}\n",
       " year & month & units\\_sold\\\\\n",
       " <int> & <chr> & <int>\\\\\n",
       "\\hline\n",
       "\t 2000 & January  & 28\\\\\n",
       "\t 2000 & February & 70\\\\\n",
       "\t 2000 & March    & 56\\\\\n",
       "\t 2000 & April    &  3\\\\\n",
       "\t 2000 & May      & 49\\\\\n",
       "\t 2000 & June     & 17\\\\\n",
       "\\end{tabular}\n"
      ],
      "text/markdown": [
       "\n",
       "A tibble: 6 × 3\n",
       "\n",
       "| year &lt;int&gt; | month &lt;chr&gt; | units_sold &lt;int&gt; |\n",
       "|---|---|---|\n",
       "| 2000 | January  | 28 |\n",
       "| 2000 | February | 70 |\n",
       "| 2000 | March    | 56 |\n",
       "| 2000 | April    |  3 |\n",
       "| 2000 | May      | 49 |\n",
       "| 2000 | June     | 17 |\n",
       "\n"
      ],
      "text/plain": [
       "  year month    units_sold\n",
       "1 2000 January  28        \n",
       "2 2000 February 70        \n",
       "3 2000 March    56        \n",
       "4 2000 April     3        \n",
       "5 2000 May      49        \n",
       "6 2000 June     17        "
      ]
     },
     "metadata": {},
     "output_type": "display_data"
    },
    {
     "data": {
      "text/html": [
       "<table class=\"dataframe\">\n",
       "<caption>A tibble: 6 × 3</caption>\n",
       "<thead>\n",
       "\t<tr><th scope=col>year</th><th scope=col>month</th><th scope=col>units_sold</th></tr>\n",
       "\t<tr><th scope=col>&lt;int&gt;</th><th scope=col>&lt;chr&gt;</th><th scope=col>&lt;int&gt;</th></tr>\n",
       "</thead>\n",
       "<tbody>\n",
       "\t<tr><td>2010</td><td>July     </td><td>20</td></tr>\n",
       "\t<tr><td>2010</td><td>August   </td><td>48</td></tr>\n",
       "\t<tr><td>2010</td><td>September</td><td>58</td></tr>\n",
       "\t<tr><td>2010</td><td>October  </td><td>53</td></tr>\n",
       "\t<tr><td>2010</td><td>November </td><td> 9</td></tr>\n",
       "\t<tr><td>2010</td><td>December </td><td>88</td></tr>\n",
       "</tbody>\n",
       "</table>\n"
      ],
      "text/latex": [
       "A tibble: 6 × 3\n",
       "\\begin{tabular}{lll}\n",
       " year & month & units\\_sold\\\\\n",
       " <int> & <chr> & <int>\\\\\n",
       "\\hline\n",
       "\t 2010 & July      & 20\\\\\n",
       "\t 2010 & August    & 48\\\\\n",
       "\t 2010 & September & 58\\\\\n",
       "\t 2010 & October   & 53\\\\\n",
       "\t 2010 & November  &  9\\\\\n",
       "\t 2010 & December  & 88\\\\\n",
       "\\end{tabular}\n"
      ],
      "text/markdown": [
       "\n",
       "A tibble: 6 × 3\n",
       "\n",
       "| year &lt;int&gt; | month &lt;chr&gt; | units_sold &lt;int&gt; |\n",
       "|---|---|---|\n",
       "| 2010 | July      | 20 |\n",
       "| 2010 | August    | 48 |\n",
       "| 2010 | September | 58 |\n",
       "| 2010 | October   | 53 |\n",
       "| 2010 | November  |  9 |\n",
       "| 2010 | December  | 88 |\n",
       "\n"
      ],
      "text/plain": [
       "  year month     units_sold\n",
       "1 2010 July      20        \n",
       "2 2010 August    48        \n",
       "3 2010 September 58        \n",
       "4 2010 October   53        \n",
       "5 2010 November   9        \n",
       "6 2010 December  88        "
      ]
     },
     "metadata": {},
     "output_type": "display_data"
    }
   ],
   "source": [
    "#Sample:\n",
    "\n",
    "long_sales_data <- sales_data |>\n",
    "       pivot_longer(cols = -year,\n",
    "                    names_to = \"month\",\n",
    "                    values_to = \"units_sold\") \n",
    "\n",
    "head(long_sales_data)\n",
    "tail(long_sales_data)"
   ]
  },
  {
   "cell_type": "code",
   "execution_count": 16,
   "id": "69a121d1-e50f-469d-b1bc-099023ab5f40",
   "metadata": {},
   "outputs": [
    {
     "data": {
      "text/html": [
       "<table class=\"dataframe\">\n",
       "<caption>A tibble: 6 × 13</caption>\n",
       "<thead>\n",
       "\t<tr><th scope=col>year</th><th scope=col>January</th><th scope=col>February</th><th scope=col>March</th><th scope=col>April</th><th scope=col>May</th><th scope=col>June</th><th scope=col>July</th><th scope=col>August</th><th scope=col>September</th><th scope=col>October</th><th scope=col>November</th><th scope=col>December</th></tr>\n",
       "\t<tr><th scope=col>&lt;int&gt;</th><th scope=col>&lt;int&gt;</th><th scope=col>&lt;int&gt;</th><th scope=col>&lt;int&gt;</th><th scope=col>&lt;int&gt;</th><th scope=col>&lt;int&gt;</th><th scope=col>&lt;int&gt;</th><th scope=col>&lt;int&gt;</th><th scope=col>&lt;int&gt;</th><th scope=col>&lt;int&gt;</th><th scope=col>&lt;int&gt;</th><th scope=col>&lt;int&gt;</th><th scope=col>&lt;int&gt;</th></tr>\n",
       "</thead>\n",
       "<tbody>\n",
       "\t<tr><td>2000</td><td>28</td><td>70</td><td> 56</td><td>  3</td><td>49</td><td>17</td><td>10</td><td>41</td><td>60</td><td> 6</td><td> 80</td><td>43</td></tr>\n",
       "\t<tr><td>2001</td><td>80</td><td>79</td><td> 67</td><td> 87</td><td>56</td><td>63</td><td>55</td><td>63</td><td>65</td><td>85</td><td> 11</td><td>19</td></tr>\n",
       "\t<tr><td>2002</td><td>22</td><td>78</td><td>100</td><td> 41</td><td>51</td><td> 8</td><td>22</td><td>71</td><td>36</td><td>85</td><td> 60</td><td>22</td></tr>\n",
       "\t<tr><td>2003</td><td> 9</td><td>14</td><td> 95</td><td>100</td><td> 6</td><td>96</td><td>25</td><td>61</td><td>28</td><td>32</td><td>100</td><td>46</td></tr>\n",
       "\t<tr><td>2004</td><td> 5</td><td>56</td><td> 93</td><td> 72</td><td>49</td><td>22</td><td> 3</td><td>96</td><td>19</td><td>77</td><td> 35</td><td>40</td></tr>\n",
       "\t<tr><td>2005</td><td>38</td><td>62</td><td>  5</td><td> 32</td><td>93</td><td>35</td><td>83</td><td>51</td><td> 9</td><td>17</td><td> 90</td><td>29</td></tr>\n",
       "</tbody>\n",
       "</table>\n"
      ],
      "text/latex": [
       "A tibble: 6 × 13\n",
       "\\begin{tabular}{lllllllllllll}\n",
       " year & January & February & March & April & May & June & July & August & September & October & November & December\\\\\n",
       " <int> & <int> & <int> & <int> & <int> & <int> & <int> & <int> & <int> & <int> & <int> & <int> & <int>\\\\\n",
       "\\hline\n",
       "\t 2000 & 28 & 70 &  56 &   3 & 49 & 17 & 10 & 41 & 60 &  6 &  80 & 43\\\\\n",
       "\t 2001 & 80 & 79 &  67 &  87 & 56 & 63 & 55 & 63 & 65 & 85 &  11 & 19\\\\\n",
       "\t 2002 & 22 & 78 & 100 &  41 & 51 &  8 & 22 & 71 & 36 & 85 &  60 & 22\\\\\n",
       "\t 2003 &  9 & 14 &  95 & 100 &  6 & 96 & 25 & 61 & 28 & 32 & 100 & 46\\\\\n",
       "\t 2004 &  5 & 56 &  93 &  72 & 49 & 22 &  3 & 96 & 19 & 77 &  35 & 40\\\\\n",
       "\t 2005 & 38 & 62 &   5 &  32 & 93 & 35 & 83 & 51 &  9 & 17 &  90 & 29\\\\\n",
       "\\end{tabular}\n"
      ],
      "text/markdown": [
       "\n",
       "A tibble: 6 × 13\n",
       "\n",
       "| year &lt;int&gt; | January &lt;int&gt; | February &lt;int&gt; | March &lt;int&gt; | April &lt;int&gt; | May &lt;int&gt; | June &lt;int&gt; | July &lt;int&gt; | August &lt;int&gt; | September &lt;int&gt; | October &lt;int&gt; | November &lt;int&gt; | December &lt;int&gt; |\n",
       "|---|---|---|---|---|---|---|---|---|---|---|---|---|\n",
       "| 2000 | 28 | 70 |  56 |   3 | 49 | 17 | 10 | 41 | 60 |  6 |  80 | 43 |\n",
       "| 2001 | 80 | 79 |  67 |  87 | 56 | 63 | 55 | 63 | 65 | 85 |  11 | 19 |\n",
       "| 2002 | 22 | 78 | 100 |  41 | 51 |  8 | 22 | 71 | 36 | 85 |  60 | 22 |\n",
       "| 2003 |  9 | 14 |  95 | 100 |  6 | 96 | 25 | 61 | 28 | 32 | 100 | 46 |\n",
       "| 2004 |  5 | 56 |  93 |  72 | 49 | 22 |  3 | 96 | 19 | 77 |  35 | 40 |\n",
       "| 2005 | 38 | 62 |   5 |  32 | 93 | 35 | 83 | 51 |  9 | 17 |  90 | 29 |\n",
       "\n"
      ],
      "text/plain": [
       "  year January February March April May June July August September October\n",
       "1 2000 28      70        56     3   49  17   10   41     60         6     \n",
       "2 2001 80      79        67    87   56  63   55   63     65        85     \n",
       "3 2002 22      78       100    41   51   8   22   71     36        85     \n",
       "4 2003  9      14        95   100    6  96   25   61     28        32     \n",
       "5 2004  5      56        93    72   49  22    3   96     19        77     \n",
       "6 2005 38      62         5    32   93  35   83   51      9        17     \n",
       "  November December\n",
       "1  80      43      \n",
       "2  11      19      \n",
       "3  60      22      \n",
       "4 100      46      \n",
       "5  35      40      \n",
       "6  90      29      "
      ]
     },
     "metadata": {},
     "output_type": "display_data"
    }
   ],
   "source": [
    "# Change it back to wide data:\n",
    "\n",
    "wide_sales_data <- long_sales_data |> \n",
    "    pivot_wider(names_from = \"month\",\n",
    "                values_from = \"units_sold\")\n",
    "\n",
    "head(wide_sales_data)"
   ]
  },
  {
   "cell_type": "markdown",
   "id": "2624f15c-458b-4d80-a70c-294669e9abc8",
   "metadata": {},
   "source": [
    "<h2>STRING R and REGEX... another day?</h2>"
   ]
  },
  {
   "cell_type": "code",
   "execution_count": null,
   "id": "7d90abf2-1e47-407b-a6b3-611bf5ab8619",
   "metadata": {},
   "outputs": [],
   "source": []
  },
  {
   "cell_type": "markdown",
   "id": "80147614-5ed4-4f43-92e3-1b3d24a465e3",
   "metadata": {},
   "source": [
    "<h1>Thanks for your time everyone</h1>"
   ]
  },
  {
   "cell_type": "markdown",
   "id": "2db169e8-2920-49c8-afbb-7e553d9de069",
   "metadata": {},
   "source": [
    "\n",
    "\n",
    "<img src=\"img/wizard_cartoon_bye.png\" alt=\"Drawing\" style=\"width: 350px;\"/>\n",
    "<h4>\n",
    "\n",
    "\"Thanks for your help everyone. It looks like I have to run. Until next time!\"</h4>"
   ]
  },
  {
   "cell_type": "code",
   "execution_count": null,
   "id": "3e8de816-7a3c-4d29-9b25-9a4f508b471a",
   "metadata": {},
   "outputs": [],
   "source": []
  }
 ],
 "metadata": {
  "kernelspec": {
   "display_name": "R",
   "language": "R",
   "name": "ir"
  },
  "language_info": {
   "codemirror_mode": "r",
   "file_extension": ".r",
   "mimetype": "text/x-r-source",
   "name": "R",
   "pygments_lexer": "r",
   "version": "4.4.1"
  }
 },
 "nbformat": 4,
 "nbformat_minor": 5
}
